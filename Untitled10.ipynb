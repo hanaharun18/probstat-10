{
 "cells": [
  {
   "cell_type": "code",
   "execution_count": 12,
   "id": "ea6bd12c-55dd-4df1-ab7c-36ca28b1688c",
   "metadata": {},
   "outputs": [
    {
     "name": "stdout",
     "output_type": "stream",
     "text": [
      "Chi-Square Statistic: 0.1873409923409925\n",
      "P-value: 0.999872291854867\n",
      "Degrees of Freedom: 6\n",
      "Expected Frequencies:\n",
      "[[ 8.10810811 21.62162162 14.86486486  5.40540541]\n",
      " [10.54054054 28.10810811 19.32432432  7.02702703]\n",
      " [11.35135135 30.27027027 20.81081081  7.56756757]]\n",
      "Gagal Tolak H0: Tidak terdapat hubungan antara kecukupan tidur dan kekuatan gowes.\n"
     ]
    }
   ],
   "source": [
    "import numpy as np\n",
    "from scipy.stats import chi2_contingency\n",
    "\n",
    "# Data dari tabel\n",
    "data = np.array([[8, 22, 15, 5],\n",
    "                 [10, 28, 20, 7],\n",
    "                 [12, 30, 20, 8]])\n",
    "\n",
    "# Menghitung chi-kuadrat\n",
    "chi2, p, dof, expected = chi2_contingency(data)\n",
    "\n",
    "# Menampilkan hasil\n",
    "print(f\"Chi-Square Statistic: {chi2}\")\n",
    "print(f\"P-value: {p}\")\n",
    "print(f\"Degrees of Freedom: {dof}\")\n",
    "print(\"Expected Frequencies:\")\n",
    "print(expected)\n",
    "\n",
    "# Menentukan keputusan\n",
    "alpha = 0.01\n",
    "if p < alpha:\n",
    "    print(\"Tolak H0: Terdapat hubungan antara kecukupan tidur dan kekuatan gowes.\")\n",
    "else:\n",
    "    print(\"Gagal Tolak H0: Tidak terdapat hubungan antara kecukupan tidur dan kekuatan gowes.\")\n",
    "# Hana Zalfa Azizah - 064102400007"
   ]
  },
  {
   "cell_type": "code",
   "execution_count": 14,
   "id": "a7575336-8e79-4c21-ac7d-6dfa6b911dc3",
   "metadata": {},
   "outputs": [
    {
     "name": "stdout",
     "output_type": "stream",
     "text": [
      "Statistik Uji Kolmogorov-Smirnov: 0.18805925481308217\n",
      "p-value: 0.5606487063640894\n",
      "Data berdistribusi normal (gagal menolak H0)\n"
     ]
    }
   ],
   "source": [
    "import numpy as np\n",
    "from scipy import stats\n",
    "\n",
    "# Data sampel nilai dari 15 mahasiswa\n",
    "data = [904, 920, 973, 1001, 1002, 1002, 1012, 1016, 1039, 1086, 1140, 1146, 1168, 1233, 1255, 1348]\n",
    "\n",
    "# Melakukan Uji Kolmogorov-Smirnov\n",
    "stat, p_value = stats.kstest(data, 'norm', args=(np.mean(data), np.std(data, ddof=1)))\n",
    "\n",
    "print(\"Statistik Uji Kolmogorov-Smirnov:\", stat)\n",
    "print(\"p-value:\", p_value)\n",
    "\n",
    "# Menentukan apakah data berdistribusi normal atau tidak\n",
    "alpha = 0.05\n",
    "if p_value > alpha:\n",
    "    print(\"Data berdistribusi normal (gagal menolak H0)\")\n",
    "else:\n",
    "    print(\"Data tidak berdistribusi normal (menolak H0)\")\n",
    "# Hana Zalfa Azizah - 064102400007"
   ]
  },
  {
   "cell_type": "code",
   "execution_count": 16,
   "id": "e91ca881-5dbd-46be-aa12-bc98c3b35fb8",
   "metadata": {},
   "outputs": [
    {
     "name": "stdout",
     "output_type": "stream",
     "text": [
      "Chi-Square Statistic: 14.9107\n",
      "P-value: 0.0049\n",
      "Degrees of Freedom: 4\n",
      "Expected Frequencies:\n",
      "[[28.         18.66666667 23.33333333]\n",
      " [16.         10.66666667 13.33333333]\n",
      " [16.         10.66666667 13.33333333]]\n",
      "Tolak H0: Ada hubungan signifikan antara pendapatan dan mutu bahan makanan.\n"
     ]
    }
   ],
   "source": [
    "import numpy as np\n",
    "from scipy.stats import chi2_contingency\n",
    "\n",
    "# Data observasi: baris = mutu bahan makanan (Baik, Cukup, Jelek)\n",
    "# kolom = pendapatan (Tinggi, Sedang, Rendah)\n",
    "data = np.array([\n",
    "    [20, 20, 30],  # Baik\n",
    "    [25, 10, 5],   # Cukup\n",
    "    [15, 10, 15]   # Jelek\n",
    "])\n",
    "\n",
    "# Uji chi-square\n",
    "chi2, p, dof, expected = chi2_contingency(data)\n",
    "\n",
    "# Tampilkan hasil\n",
    "print(f\"Chi-Square Statistic: {chi2:.4f}\")\n",
    "print(f\"P-value: {p:.4f}\")\n",
    "print(f\"Degrees of Freedom: {dof}\")\n",
    "print(\"Expected Frequencies:\")\n",
    "print(expected)\n",
    "\n",
    "# Taraf signifikansi 5%\n",
    "alpha = 0.05\n",
    "if p < alpha:\n",
    "    print(\"Tolak H0: Ada hubungan signifikan antara pendapatan dan mutu bahan makanan.\")\n",
    "else:\n",
    "    print(\"Gagal tolak H0: Tidak ada hubungan signifikan antara pendapatan dan mutu bahan makanan.\")\n",
    "# Hana Zalfa Azizah - 064102400007"
   ]
  },
  {
   "cell_type": "code",
   "execution_count": 18,
   "id": "9e384ac5-8510-4c34-b3bc-a80f60aecf50",
   "metadata": {},
   "outputs": [
    {
     "name": "stdout",
     "output_type": "stream",
     "text": [
      "Kolmogorov-Smirnov Statistic: 0.1872\n",
      "P-value: 0.6044\n",
      "Gagal tolak H0: Data berdistribusi normal.\n"
     ]
    }
   ],
   "source": [
    "import numpy as np\n",
    "from scipy.stats import kstest, norm\n",
    "\n",
    "# Data nilai mahasiswa\n",
    "data = np.array([12, 25, 45, 67, 43, 33, 24, 45, 34, 11, 8, 34, 67, 99, 22])\n",
    "\n",
    "# Hitung mean dan standar deviasi data\n",
    "mean = np.mean(data)\n",
    "std = np.std(data, ddof=1)  # ddof=1 untuk sampel\n",
    "\n",
    "# Definisikan fungsi distribusi normal dengan mean dan std data\n",
    "def cdf_normal(x):\n",
    "    return norm.cdf(x, loc=mean, scale=std)\n",
    "\n",
    "# Lakukan uji Kolmogorov-Smirnov\n",
    "statistic, p_value = kstest(data, cdf_normal)\n",
    "\n",
    "print(f\"Kolmogorov-Smirnov Statistic: {statistic:.4f}\")\n",
    "print(f\"P-value: {p_value:.4f}\")\n",
    "\n",
    "alpha = 0.05\n",
    "if statistic > 0.338:  # nilai kritis tabel untuk n=15 dan alpha=0.05\n",
    "    print(\"Tolak H0: Data tidak berdistribusi normal.\")\n",
    "else:\n",
    "    print(\"Gagal tolak H0: Data berdistribusi normal.\")\n",
    "# Hana Zalfa Azizah - 064102400007"
   ]
  },
  {
   "cell_type": "code",
   "execution_count": null,
   "id": "b276cb47-fb69-482f-9630-66b864910235",
   "metadata": {},
   "outputs": [],
   "source": []
  }
 ],
 "metadata": {
  "kernelspec": {
   "display_name": "Python [conda env:base] *",
   "language": "python",
   "name": "conda-base-py"
  },
  "language_info": {
   "codemirror_mode": {
    "name": "ipython",
    "version": 3
   },
   "file_extension": ".py",
   "mimetype": "text/x-python",
   "name": "python",
   "nbconvert_exporter": "python",
   "pygments_lexer": "ipython3",
   "version": "3.12.7"
  }
 },
 "nbformat": 4,
 "nbformat_minor": 5
}
